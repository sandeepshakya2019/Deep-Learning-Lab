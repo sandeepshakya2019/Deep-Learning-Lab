{
 "cells": [
  {
   "cell_type": "markdown",
   "metadata": {},
   "source": [
    "### Convolutional Neural Networks\n",
    "\n",
    "#### torch.nn \n",
    "\n",
    "* conv2d\n",
    "* Relu\n",
    "* MaxPool2d\n",
    "* pytorch cnn (basic pytorch tutorial)\n",
    "* cifar10 and cifar100\n",
    "* imagenet (1000 class)"
   ]
  },
  {
   "cell_type": "markdown",
   "metadata": {},
   "source": [
    "### Use Pretrained Model\n",
    "\n",
    "* AlexNet\n",
    "* VGGNet\n",
    "* ResNet\n"
   ]
  },
  {
   "cell_type": "code",
   "execution_count": 2,
   "metadata": {},
   "outputs": [],
   "source": [
    "import torch"
   ]
  },
  {
   "cell_type": "code",
   "execution_count": null,
   "metadata": {},
   "outputs": [],
   "source": []
  },
  {
   "cell_type": "code",
   "execution_count": null,
   "metadata": {},
   "outputs": [],
   "source": [
    "import torch\n",
    "import torch.nn as nn\n",
    "import torchvision.transforms as transforms\n",
    "from torchvision import datasets\n",
    "import torchvision.models as models\n",
    "\n",
    "# Load models\n",
    "resnet18 = models.resnet18(pretrained=True)\n",
    "alexnet = models.alexnet(pretrained=True)\n",
    "vgg16 = models.vgg16(pretrained=True)\n",
    "squeezenet = models.squeezenet1_0(pretrained=True)\n",
    "densenet = models.densenet161(pretrained=True)\n",
    "inception = models.inception_v3(pretrained=True)\n",
    "googlenet = models.googlenet(pretrained=True)\n",
    "shufflenet = models.shufflenet_v2_x1_0(pretrained=True)\n",
    "mobilenet = models.mobilenet_v2(pretrained=True)\n",
    "\n",
    "models_list = [\n",
    "    (\"resnet18\", resnet18),\n",
    "    (\"alexnet\", alexnet),\n",
    "    (\"vgg16\", vgg16),\n",
    "    (\"squeezenet\", squeezenet),\n",
    "    (\"densenet\", densenet),\n",
    "    (\"inception_v3\", inception),\n",
    "    (\"googlenet\", googlenet),\n",
    "    (\"shufflenet\", shufflenet),\n",
    "    (\"mobilenet_v2\", mobilenet),\n",
    "]\n",
    "\n",
    "# Prepare the MNIST dataset\n",
    "transform = transforms.Compose([\n",
    "    transforms.Resize((224, 224)),  # Resize images to 224x224 for pre-trained models\n",
    "    transforms.Grayscale(3),       # Convert 1-channel grayscale to 3-channel\n",
    "    transforms.ToTensor(),         # Convert images to tensors\n",
    "    transforms.Normalize((0.5,), (0.5,))  # Normalize to [-1, 1]\n",
    "])\n",
    "\n",
    "test_dataset = datasets.MNIST(root=\"./data\", train=False, transform=transform, download=True)\n",
    "test_loader = torch.utils.data.DataLoader(test_dataset, batch_size=64, shuffle=False)\n",
    "\n",
    "device = torch.device(\"cpu\")\n",
    "\n",
    "for model_name, model in models_list:\n",
    "    print(f\"\\nLoading model: {model_name}\")\n",
    "\n",
    "    # Modify the model for MNIST\n",
    "    if isinstance(model, models.Inception3):\n",
    "        model.aux_logits = False  # Disable auxiliary outputs for Inception v3\n",
    "\n",
    "    if hasattr(model, \"fc\"):\n",
    "        in_features = model.fc.in_features\n",
    "        model.fc = nn.Linear(in_features, 10)\n",
    "    elif hasattr(model, \"classifier\"):\n",
    "        if isinstance(model.classifier, nn.Sequential):\n",
    "            in_features = model.classifier[-1].in_features\n",
    "            model.classifier[-1] = nn.Linear(in_features, 10)\n",
    "        else:\n",
    "            in_features = model.classifier.in_features\n",
    "            model.classifier = nn.Linear(in_features, 10)\n",
    "\n",
    "    model = model.to(device)\n",
    "    model.eval()\n",
    "\n",
    "    print(\"Running in prediction mode...\")\n",
    "    correct = 0\n",
    "    total = 0\n",
    "\n",
    "    with torch.no_grad():\n",
    "        for images, labels in test_loader:\n",
    "            images, labels = images.to(device), labels.to(device)\n",
    "            outputs = model(images)\n",
    "            _, predicted = torch.max(outputs, 1)\n",
    "            total += labels.size(0)\n",
    "            correct += (predicted == labels).sum().item()\n",
    "\n",
    "    accuracy = 100 * correct / total\n",
    "    print(f\"Accuracy of {model_name} on MNIST test data: {accuracy:.2f}%\")\n"
   ]
  }
 ],
 "metadata": {
  "kernelspec": {
   "display_name": "base",
   "language": "python",
   "name": "python3"
  },
  "language_info": {
   "codemirror_mode": {
    "name": "ipython",
    "version": 3
   },
   "file_extension": ".py",
   "mimetype": "text/x-python",
   "name": "python",
   "nbconvert_exporter": "python",
   "pygments_lexer": "ipython3",
   "version": "3.12.4"
  }
 },
 "nbformat": 4,
 "nbformat_minor": 2
}
