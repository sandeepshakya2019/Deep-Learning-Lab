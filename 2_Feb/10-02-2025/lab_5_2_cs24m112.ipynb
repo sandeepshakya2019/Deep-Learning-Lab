{
  "cells": [
    {
      "cell_type": "markdown",
      "metadata": {
        "id": "CoZkqzC1JtaV"
      },
      "source": [
        "# Lab 5_1 Auto Encoder"
      ]
    },
    {
      "cell_type": "code",
      "execution_count": 2,
      "metadata": {
        "id": "PnAxd8NgJtad"
      },
      "outputs": [],
      "source": [
        "import torch\n",
        "import torch.nn as nn\n",
        "import torch.optim as optim\n",
        "import torchvision.transforms as transforms\n",
        "import torchvision.datasets as datasets\n",
        "from torch.utils.data import DataLoader, random_split\n",
        "import matplotlib.pyplot as plt"
      ]
    },
    {
      "cell_type": "code",
      "source": [
        "\n",
        "# Load MNIST Dataset\n",
        "transform = transforms.ToTensor()\n",
        "dataset = datasets.MNIST(root=\"./data\", train=True, transform=transform, download=True)\n",
        "train_size = int(0.8 * len(dataset))\n",
        "test_size = len(dataset) - train_size\n",
        "train_set, test_set = random_split(dataset, [train_size, test_size])\n",
        "\n",
        "train_loader = DataLoader(train_set, batch_size=64, shuffle=True)\n",
        "test_loader = DataLoader(test_set, batch_size=64, shuffle=False)"
      ],
      "metadata": {
        "id": "xQt0KCJnNzam"
      },
      "execution_count": 3,
      "outputs": []
    },
    {
      "cell_type": "code",
      "source": [
        "# Define Autoencoder with Classification\n",
        "class Autoencoder(nn.Module):\n",
        "    def __init__(self):\n",
        "        super(Autoencoder, self).__init__()\n",
        "\n",
        "        # Encoder Layers\n",
        "        self.fc1 = nn.Linear(784, 256)\n",
        "        self.relu1 = nn.ReLU()\n",
        "        self.fc2 = nn.Linear(256, 64)\n",
        "        self.relu2 = nn.ReLU()\n",
        "        self.fc3 = nn.Linear(64, 16)\n",
        "\n",
        "        # Decoder Layers\n",
        "        self.fc4 = nn.Linear(16, 64)\n",
        "        self.relu3 = nn.ReLU()\n",
        "        self.fc5 = nn.Linear(64, 256)\n",
        "        self.relu4 = nn.ReLU()\n",
        "        self.fc6 = nn.Linear(256, 784)\n",
        "        self.sigmoid = nn.Sigmoid()\n",
        "\n",
        "        # Classification Layers\n",
        "        self.fc7 = nn.Linear(16, 10)\n",
        "\n",
        "    def encode(self, x):\n",
        "        x = self.fc1(x)\n",
        "        x = self.relu1(x)\n",
        "        x = self.fc2(x)\n",
        "        x = self.relu2(x)\n",
        "        x = self.fc3(x)\n",
        "        return x\n",
        "\n",
        "    def decode(self, x):\n",
        "        x = self.fc4(x)\n",
        "        x = self.relu3(x)\n",
        "        x = self.fc5(x)\n",
        "        x = self.relu4(x)\n",
        "        x = self.fc6(x)\n",
        "        x = self.sigmoid(x)\n",
        "        return x\n",
        "\n",
        "    def classify(self, x):\n",
        "        x = self.fc7(x)\n",
        "        return x\n",
        "\n",
        "    def forward(self, x):\n",
        "        encoded = self.encode(x)\n",
        "        decoded = self.decode(encoded)\n",
        "        y_pred = self.classify(encoded)\n",
        "        return decoded, y_pred"
      ],
      "metadata": {
        "id": "OZrJjhHfN2H0"
      },
      "execution_count": 4,
      "outputs": []
    },
    {
      "cell_type": "code",
      "source": [
        "\n",
        "# Initialize Model, Loss, and Optimizer\n",
        "device = torch.device(\"cuda\" if torch.cuda.is_available() else \"cpu\")\n",
        "autoencoder = Autoencoder().to(device)\n",
        "criterion_recon = nn.MSELoss()\n",
        "criterion_class = nn.CrossEntropyLoss()\n",
        "optimizer = optim.Adam(autoencoder.parameters(), lr=0.001)"
      ],
      "metadata": {
        "id": "U8DJkV2GN5q2"
      },
      "execution_count": 5,
      "outputs": []
    },
    {
      "cell_type": "code",
      "source": [
        "# Training Loop\n",
        "num_epochs = 10\n",
        "for epoch in range(num_epochs):\n",
        "    for images, labels in train_loader:\n",
        "        images = images.view(images.size(0), -1).to(device)  # Flatten images\n",
        "        labels = labels.to(device)\n",
        "\n",
        "        outputs, y_pred = autoencoder(images)  # Forward pass\n",
        "        loss_recon = criterion_recon(outputs, images)  # Reconstruction loss\n",
        "        loss_class = criterion_class(y_pred, labels)  # Classification loss\n",
        "        loss = loss_recon + loss_class  # Total loss\n",
        "\n",
        "        optimizer.zero_grad()\n",
        "        loss.backward()\n",
        "        optimizer.step()\n",
        "\n",
        "    print(f\"Epoch [{epoch+1}/{num_epochs}], Loss: {loss.item():.4f}\")\n",
        "\n",
        "print(\"Training complete.\")"
      ],
      "metadata": {
        "colab": {
          "base_uri": "https://localhost:8080/",
          "height": 0
        },
        "id": "csmiuxVCN9ft",
        "outputId": "00ac0eb4-83d5-4e5f-a87d-58b5eb0b73ad"
      },
      "execution_count": 6,
      "outputs": [
        {
          "output_type": "stream",
          "name": "stdout",
          "text": [
            "Epoch [1/10], Loss: 0.2106\n",
            "Epoch [2/10], Loss: 0.2104\n",
            "Epoch [3/10], Loss: 0.1123\n",
            "Epoch [4/10], Loss: 0.0941\n",
            "Epoch [5/10], Loss: 0.3006\n",
            "Epoch [6/10], Loss: 0.0752\n",
            "Epoch [7/10], Loss: 0.0291\n",
            "Epoch [8/10], Loss: 0.0746\n",
            "Epoch [9/10], Loss: 0.0220\n",
            "Epoch [10/10], Loss: 0.0493\n",
            "Training complete.\n"
          ]
        }
      ]
    },
    {
      "cell_type": "code",
      "source": [
        "# Testing Loop - Compute Accuracy\n",
        "correct = 0\n",
        "total = 0\n",
        "with torch.no_grad():\n",
        "    for images, labels in test_loader:\n",
        "        images = images.view(images.size(0), -1).to(device)\n",
        "        labels = labels.to(device)\n",
        "\n",
        "        encoded = autoencoder.encode(images)\n",
        "        y_pred_test = autoencoder.classify(encoded)\n",
        "        predicted = torch.argmax(y_pred_test, dim=1)\n",
        "\n",
        "        total += labels.size(0)\n",
        "        correct += (predicted == labels).sum().item()\n",
        "\n",
        "accuracy = 100 * correct / total\n",
        "print(f\"Test Accuracy: {accuracy:.2f}%\")"
      ],
      "metadata": {
        "colab": {
          "base_uri": "https://localhost:8080/",
          "height": 0
        },
        "id": "SJWDa-_YN_K-",
        "outputId": "edf7b0d1-e060-446e-fb76-5e28a970bcf0"
      },
      "execution_count": 7,
      "outputs": [
        {
          "output_type": "stream",
          "name": "stdout",
          "text": [
            "Test Accuracy: 97.49%\n"
          ]
        }
      ]
    }
  ],
  "metadata": {
    "kernelspec": {
      "display_name": "Python 3",
      "name": "python3"
    },
    "language_info": {
      "codemirror_mode": {
        "name": "ipython",
        "version": 3
      },
      "file_extension": ".py",
      "mimetype": "text/x-python",
      "name": "python",
      "nbconvert_exporter": "python",
      "pygments_lexer": "ipython3",
      "version": "3.12.4"
    },
    "colab": {
      "provenance": [],
      "gpuType": "T4"
    },
    "accelerator": "GPU"
  },
  "nbformat": 4,
  "nbformat_minor": 0
}