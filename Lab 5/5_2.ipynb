{
 "cells": [
  {
   "cell_type": "code",
   "execution_count": 11,
   "id": "4255af06",
   "metadata": {},
   "outputs": [],
   "source": [
    "import torch\n",
    "import torch.nn as nn\n",
    "\n",
    "class Autoencoder(nn.Module):\n",
    "    def __init__(self, input_dim, output_dim):\n",
    "        super().__init__()\n",
    "        self.encode = nn.Sequential(\n",
    "            nn.Flatten(),\n",
    "            nn.Linear(input_dim, 256),\n",
    "            nn.Linear(256, 64),\n",
    "            nn.Linear(64, 32),\n",
    "        )\n",
    "        self.decode = nn.Sequential(\n",
    "            nn.Linear(32, 64),\n",
    "            nn.Linear(64, 256),\n",
    "            nn.Linear(256, input_dim),\n",
    "        )\n",
    "        self.classify = nn.Linear(32, 10)\n",
    "\n",
    "    def forward(self,x):\n",
    "        encode = self.encode(x)\n",
    "        decode = self.decode(encode)\n",
    "        classify = self.classify(encode)\n",
    "        return decode, classify"
   ]
  },
  {
   "cell_type": "code",
   "execution_count": 12,
   "id": "97a40546",
   "metadata": {},
   "outputs": [],
   "source": [
    "\n",
    "# Initialize Model, Loss, and Optimizer\n",
    "device = torch.device(\"cuda\" if torch.cuda.is_available() else \"cpu\")\n",
    "autoencoder = Autoencoder(1*28*28,10).to(device)\n",
    "criterion_recon = nn.MSELoss()\n",
    "criterion_class = nn.CrossEntropyLoss()\n",
    "optimizer = torch.optim.Adam(autoencoder.parameters(), lr=0.001)"
   ]
  },
  {
   "cell_type": "code",
   "execution_count": null,
   "id": "320b6891",
   "metadata": {},
   "outputs": [],
   "source": [
    "# Training Loop\n",
    "num_epochs = 10\n",
    "for epoch in range(num_epochs):\n",
    "    for images, labels in train_loader:\n",
    "        # images = images.view(images.size(0), -1).to(device) \n",
    "        #  # Flatten images\n",
    "        images = images.to(device)\n",
    "        labels = labels.to(device)\n",
    "\n",
    "        outputs, y_pred = autoencoder(images)  # Forward pass\n",
    "        loss_recon = criterion_recon(outputs, images)  # Reconstruction loss\n",
    "        loss_class = criterion_class(y_pred, labels)  # Classification loss\n",
    "        loss = loss_recon + loss_class  # Total loss\n",
    "\n",
    "        optimizer.zero_grad()\n",
    "        loss.backward()\n",
    "        optimizer.step()\n",
    "\n",
    "    print(f\"Epoch [{epoch+1}/{num_epochs}], Loss: {loss.item():.4f}\")\n",
    "\n",
    "print(\"Training complete.\")"
   ]
  },
  {
   "cell_type": "code",
   "execution_count": null,
   "id": "94a0fed7",
   "metadata": {},
   "outputs": [],
   "source": [
    "# Testing Loop - Compute Accuracy\n",
    "correct = 0\n",
    "total = 0\n",
    "with torch.no_grad():\n",
    "    for images, labels in test_loader:\n",
    "        images = images.view(images.size(0), -1).to(device)\n",
    "        labels = labels.to(device)\n",
    "\n",
    "        encoded = autoencoder.encode(images)\n",
    "        y_pred_test = autoencoder.classify(encoded)\n",
    "        predicted = torch.argmax(y_pred_test, dim=1)\n",
    "\n",
    "        total += labels.size(0)\n",
    "        correct += (predicted == labels).sum().item()\n",
    "\n",
    "accuracy = 100 * correct / total\n",
    "print(f\"Test Accuracy: {accuracy:.2f}%\")"
   ]
  }
 ],
 "metadata": {
  "kernelspec": {
   "display_name": "base",
   "language": "python",
   "name": "python3"
  },
  "language_info": {
   "codemirror_mode": {
    "name": "ipython",
    "version": 3
   },
   "file_extension": ".py",
   "mimetype": "text/x-python",
   "name": "python",
   "nbconvert_exporter": "python",
   "pygments_lexer": "ipython3",
   "version": "3.12.4"
  }
 },
 "nbformat": 4,
 "nbformat_minor": 5
}
