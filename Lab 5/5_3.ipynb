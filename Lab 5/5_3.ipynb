{
 "cells": [
  {
   "cell_type": "code",
   "execution_count": null,
   "id": "33f9d0cf",
   "metadata": {},
   "outputs": [
    {
     "data": {
      "text/plain": [
       "(torch.Size([32, 1, 28, 28]), torch.Size([32, 10]))"
      ]
     },
     "execution_count": 13,
     "metadata": {},
     "output_type": "execute_result"
    }
   ],
   "source": [
    "import torch\n",
    "import torch.nn as nn\n",
    "\n",
    "class ConvAutoencoder(torch.nn.Module):\n",
    "    def __init__(self):\n",
    "        super().__init__()\n",
    "        self.encode = nn.Sequential(\n",
    "            nn.Conv2d(1,16,3,stride=2, padding=1),\n",
    "            nn.ReLU(),\n",
    "            nn.Conv2d(16,32,3,stride=2, padding=1),\n",
    "            nn.ReLU(),\n",
    "            nn.Flatten(),\n",
    "            nn.Linear(32*7*7, 16),\n",
    "            nn.ReLU()\n",
    "        )\n",
    "\n",
    "        self.reshape = nn.Linear(16,32*7*7)\n",
    "\n",
    "        self.classify = nn.Linear(16,10)\n",
    "\n",
    "        self.decode = nn.Sequential(\n",
    "            nn.ConvTranspose2d(32,16,3,stride=2, padding=1, output_padding=1),\n",
    "            nn.ReLU(),\n",
    "            nn.ConvTranspose2d(16,1,3,stride=2, padding=1, output_padding=1),\n",
    "            nn.Sigmoid(),\n",
    "            nn.ReLU()\n",
    "        )\n",
    "\n",
    "    def forward(self,x):\n",
    "        encode = self.encode(x)\n",
    "        classify = self.classify(encode)\n",
    "        x = self.reshape(encode)\n",
    "        x = x.view(x.size(0),32,7,7)\n",
    "        decode = self.decode(x)\n",
    "        return decode, classify\n",
    "    \n",
    "    \n",
    "model = ConvAutoencoder()\n",
    "decode, classify = model(torch.randn(size=(32,1,28,28)))\n",
    "decode.shape, classify.shape"
   ]
  },
  {
   "cell_type": "code",
   "execution_count": null,
   "id": "52ac01f2",
   "metadata": {},
   "outputs": [],
   "source": [
    "# Initialize Model, Loss, and Optimizer\n",
    "device = torch.device(\"cuda\" if torch.cuda.is_available() else \"cpu\")\n",
    "autoencoder = ConvAutoencoder().to(device)\n",
    "\n",
    "criterion = nn.MSELoss()\n",
    "classification = nn.CrossEntropyLoss()\n",
    "\n",
    "optimizer = torch.optim.Adam(autoencoder.parameters(), lr=0.001)\n"
   ]
  },
  {
   "cell_type": "code",
   "execution_count": null,
   "id": "5764820b",
   "metadata": {},
   "outputs": [],
   "source": [
    "\n",
    "# Training Loop\n",
    "num_epochs = 10\n",
    "for epoch in range(num_epochs):\n",
    "    for images, laebls in train_loader:\n",
    "        images = images.to(device)  # No flattening!\n",
    "\n",
    "        outputs, classify = autoencoder(images)  # Use existing model instance\n",
    "        loss_recon = criterion(outputs, images)  # Reconstruction \n",
    "        loss_class = classification(classify, laebls)  # Reconstruction\n",
    "        loss = loss_recon + loss_class\n",
    "\n",
    "        optimizer.zero_grad()\n",
    "        loss.backward()\n",
    "        optimizer.step()\n",
    "\n",
    "    print(f\"Epoch [{epoch+1}/{num_epochs}], Loss: {loss.item():.4f}\")\n",
    "\n",
    "print(\"Training complete.\")"
   ]
  }
 ],
 "metadata": {
  "kernelspec": {
   "display_name": "base",
   "language": "python",
   "name": "python3"
  },
  "language_info": {
   "codemirror_mode": {
    "name": "ipython",
    "version": 3
   },
   "file_extension": ".py",
   "mimetype": "text/x-python",
   "name": "python",
   "nbconvert_exporter": "python",
   "pygments_lexer": "ipython3",
   "version": "3.12.4"
  }
 },
 "nbformat": 4,
 "nbformat_minor": 5
}
