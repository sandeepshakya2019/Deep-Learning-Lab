{
 "cells": [
  {
   "cell_type": "code",
   "execution_count": 1,
   "id": "a4898d88",
   "metadata": {},
   "outputs": [],
   "source": [
    "import torch\n",
    "import torch.nn as nn"
   ]
  },
  {
   "cell_type": "code",
   "execution_count": null,
   "id": "e1fe61c7",
   "metadata": {},
   "outputs": [],
   "source": [
    "class VAE(nn.Module):\n",
    "    def __init__(self, latent_dim = 20):\n",
    "        super().__init__()\n",
    "        self.encoder = nn.Sequential(\n",
    "            nn.Flatten(),\n",
    "            nn.Linear(1*28*28, 256),\n",
    "            nn.ReLU(),\n",
    "            nn.Linear(256, 64),\n",
    "            nn.ReLU(),\n",
    "        )\n",
    "\n",
    "        self.mu = nn.Linear(64,latent_dim)\n",
    "        self.logvar = nn.Linear(64,latent_dim)\n",
    "\n",
    "        self.decoder = nn.Sequential(\n",
    "            nn.Linear(latent_dim, 64),\n",
    "            nn.ReLU(),\n",
    "            nn.Linear(64, 256),\n",
    "            nn.ReLU(),\n",
    "            nn.Linear(256, 784),\n",
    "            nn.Sigmoid(),\n",
    "        )\n",
    "\n",
    "    def encode(self, x):\n",
    "        encoder = self.encoder(x)\n",
    "        mu = self.mu(encoder)\n",
    "        logvar = self.mu(encoder)\n",
    "        return mu, logvar\n",
    "    \n",
    "    def decode(self,x):\n",
    "        return self.decoder(x)\n",
    "\n",
    "    def reparametrized(self, mu, logvar):\n",
    "        std=torch.exp(0.5*logvar)\n",
    "        eps=torch.randn_like(std)\n",
    "        return mu+eps*std\n",
    "\n",
    "    def forward(self, x):\n",
    "        mu, logvar = self.encode(x)\n",
    "        z = self.reparametrized(mu, logvar)\n",
    "        return self.decoder(z), mu, logvar\n",
    "\n"
   ]
  },
  {
   "cell_type": "code",
   "execution_count": null,
   "id": "0de5627b",
   "metadata": {},
   "outputs": [],
   "source": [
    "device = torch.device(\"cuda\" if torch.cuda.is_available() else \"cpu\")\n",
    "latent_dim = 20\n",
    "model = VAE(latent_dim).to(device)\n",
    "optimizer = torch.optim.Adam(model.parameters(), lr=1e-3)"
   ]
  },
  {
   "cell_type": "code",
   "execution_count": null,
   "id": "035e9835",
   "metadata": {},
   "outputs": [],
   "source": [
    "def train(model, train_loader, epochs=10):\n",
    "    model.train()\n",
    "    for epoch in range(epochs):\n",
    "        total_loss = 0\n",
    "        for batch_idx, (x, _) in enumerate(train_loader):\n",
    "            x = x.to(device)\n",
    "\n",
    "            optimizer.zero_grad()\n",
    "            x_recon, mu, log_var = model(x)\n",
    "\n",
    "            # Reconstruction Loss (BCE)\n",
    "            recon_loss = F.binary_cross_entropy(x_recon, x, reduction='sum')\n",
    "\n",
    "            # KL Divergence Loss\n",
    "            kl_loss = -0.5 * torch.sum(1 + log_var - mu.pow(2) - log_var.exp())\n",
    "\n",
    "            # Total Loss\n",
    "            loss = recon_loss + kl_loss\n",
    "            loss.backward()\n",
    "            optimizer.step()\n",
    "\n",
    "            total_loss += loss.item()\n",
    "\n",
    "        print(f\"Epoch {epoch+1}/{epochs}, Loss: {total_loss / len(train_loader.dataset):.4f}\")\n",
    "\n",
    "train(model, train_loader, epochs=10)"
   ]
  },
  {
   "cell_type": "code",
   "execution_count": null,
   "id": "6ed15cdc",
   "metadata": {},
   "outputs": [],
   "source": [
    "with torch.no_grad():\n",
    "    dataiter = iter(test_loader)  # Get a batch of test data\n",
    "    images, _ = next(dataiter)\n",
    "\n",
    "    images = images.to(device)\n",
    "    outputs, _, _ = model(images)  # Get the reconstructed images\n",
    "\n",
    "    images = images.cpu().view(-1, 28, 28)  # Reshape to 28x28\n",
    "    outputs = outputs.cpu().view(-1, 28, 28)  # Reshape to 28x28\n",
    "\n",
    "    fig, axes = plt.subplots(10, 2, figsize=(4, 20))  # 10 pairs of images\n",
    "    for i in range(10):\n",
    "        # Original Image\n",
    "        axes[i, 0].imshow(images[i], cmap='gray')\n",
    "        axes[i, 0].axis('off')\n",
    "        axes[i, 0].set_title(\"Original\")\n",
    "\n",
    "        # Reconstructed Image\n",
    "        axes[i, 1].imshow(outputs[i], cmap='gray')\n",
    "        axes[i, 1].axis('off')\n",
    "        axes[i, 1].set_title(\"Reconstructed\")\n",
    "\n",
    "    plt.tight_layout()\n",
    "    plt.show()\n"
   ]
  }
 ],
 "metadata": {
  "kernelspec": {
   "display_name": "base",
   "language": "python",
   "name": "python3"
  },
  "language_info": {
   "codemirror_mode": {
    "name": "ipython",
    "version": 3
   },
   "file_extension": ".py",
   "mimetype": "text/x-python",
   "name": "python",
   "nbconvert_exporter": "python",
   "pygments_lexer": "ipython3",
   "version": "3.12.4"
  }
 },
 "nbformat": 4,
 "nbformat_minor": 5
}
