{
 "cells": [
  {
   "cell_type": "code",
   "execution_count": 55,
   "id": "ef603111",
   "metadata": {},
   "outputs": [],
   "source": [
    "import torch\n",
    "import torch.nn as nn"
   ]
  },
  {
   "cell_type": "code",
   "execution_count": 56,
   "id": "ad6de34a",
   "metadata": {},
   "outputs": [
    {
     "name": "stdout",
     "output_type": "stream",
     "text": [
      "torch.Size([32, 3, 32, 32])\n"
     ]
    }
   ],
   "source": [
    "class VAE(nn.Module):\n",
    "    def __init__(self, *args, **kwargs):\n",
    "        super().__init__(*args, **kwargs)\n",
    "        \n",
    "        # Encoder part\n",
    "        self.encode = nn.Sequential(\n",
    "            nn.Conv2d(3, 32, kernel_size=4, stride=2, padding=1),\n",
    "            nn.ReLU(),\n",
    "            nn.Conv2d(32, 64, kernel_size=4, stride=2, padding=1),\n",
    "            nn.ReLU(),\n",
    "           nn.Conv2d(64, 128, kernel_size=4, stride=2, padding=1),\n",
    "            nn.ReLU(),\n",
    "            nn.Flatten(),\n",
    "            nn.Linear(128 * 4 * 4, 1024)  # Corrected to match the output size after Conv2d layers\n",
    "        )\n",
    "\n",
    "        # Latent space\n",
    "        self.mu = nn.Linear(1024, 256)\n",
    "        self.logvar = nn.Linear(1024, 256)\n",
    "\n",
    "        # Decoder part\n",
    "        self.linear_decode = nn.Sequential(\n",
    "            nn.Linear(256, 1024),\n",
    "            nn.Linear(1024, 128 * 4* 4),  # Adjusted to match the flatten output size\n",
    "        )\n",
    "\n",
    "        self.decode = nn.Sequential(\n",
    "            nn.ConvTranspose2d(128, 64, 4, stride=2, padding=1),  # Output: (batch_size, 64, 8, 8)\n",
    "            nn.ReLU(),\n",
    "            nn.ConvTranspose2d(64, 32, 4, stride=2, padding=1),   # Output: (batch_size, 32, 16, 16)\n",
    "            nn.ReLU(),\n",
    "            nn.ConvTranspose2d(32, 3, 4, stride=2, padding=1  ),    # Output: (batch_size, 3, 28, 28)\n",
    "            nn.Sigmoid(),\n",
    "        )\n",
    "\n",
    "    def encoder(self, x):\n",
    "        return self.encode(x)\n",
    "\n",
    "    def decoder(self, x):\n",
    "        linear_decode = self.linear_decode(x)\n",
    "        # Reshaping to (batch_size, 128, 4, 4)\n",
    "        linear_decode = linear_decode.view(linear_decode.size(0), 128, 4, 4)\n",
    "        return self.decode(linear_decode)\n",
    "\n",
    "    def reparameterize(self, mean, logvar):\n",
    "        std = torch.exp(0.5 * logvar)\n",
    "        eps = torch.randn_like(std)\n",
    "        return mean + eps * std\n",
    "\n",
    "    def forward(self, x):\n",
    "        encode = self.encoder(x)  # Encoder output\n",
    "        mu = self.mu(encode)      # Latent mean\n",
    "        logvar = self.logvar(encode)  # Latent log variance\n",
    "        z = self.reparameterize(mu, logvar)  # Latent vector z\n",
    "        decode = self.decoder(z)  # Reconstructed image\n",
    "        return decode, mu, logvar\n",
    "\n",
    "# Create the model and test it with a dummy input\n",
    "model = VAE()\n",
    "decode, mu, logvar = model(torch.randn(size=(32, 3, 32, 32)))\n",
    "\n",
    "# Print the output shape of the decoded image\n",
    "print(decode.shape)\n"
   ]
  },
  {
   "cell_type": "code",
   "execution_count": null,
   "id": "03a37351",
   "metadata": {},
   "outputs": [],
   "source": [
    "# Loss function\n",
    "def loss_function(recon_x, x, mean, logvar):\n",
    "    # Applying sigmoid activation to the reconstructed image to ensure values are between 0 and 1\n",
    "    recon_x = torch.sigmoid(recon_x)\n",
    "    BCE = nn.functional.binary_cross_entropy(recon_x.view(-1, 3*32*32), x.view(-1, 3*32*32), reduction='sum')\n",
    "\n",
    "    # KL divergence remains the same\n",
    "    KL = -0.5 * torch.sum(1 + logvar - mean.pow(2) - logvar.exp())\n",
    "    return BCE + KL\n",
    "\n",
    "# Training the VAE\n",
    "device = torch.device('cuda' if torch.cuda.is_available() else 'cpu')\n",
    "model = VAE().to(device)\n",
    "optimizer = optim.Adam(model.parameters(), lr=learning_rate)"
   ]
  },
  {
   "cell_type": "code",
   "execution_count": null,
   "id": "a8463dc4",
   "metadata": {},
   "outputs": [],
   "source": [
    "# Train loop\n",
    "def train(epoch):\n",
    "    model.train()\n",
    "    train_loss = 0\n",
    "    for batch_idx, (data, _) in enumerate(train_loader):\n",
    "        data = data.to(device)\n",
    "        optimizer.zero_grad()\n",
    "        recon_batch, mean, logvar = model(data)\n",
    "        loss = loss_function(recon_batch, data, mean, logvar)\n",
    "        loss.backward()\n",
    "        train_loss += loss.item()\n",
    "        optimizer.step()\n",
    "\n",
    "    print(f\"Epoch: {epoch} Average loss: {train_loss / len(train_loader.dataset):.4f}\")"
   ]
  }
 ],
 "metadata": {
  "kernelspec": {
   "display_name": "base",
   "language": "python",
   "name": "python3"
  },
  "language_info": {
   "codemirror_mode": {
    "name": "ipython",
    "version": 3
   },
   "file_extension": ".py",
   "mimetype": "text/x-python",
   "name": "python",
   "nbconvert_exporter": "python",
   "pygments_lexer": "ipython3",
   "version": "3.12.4"
  }
 },
 "nbformat": 4,
 "nbformat_minor": 5
}
