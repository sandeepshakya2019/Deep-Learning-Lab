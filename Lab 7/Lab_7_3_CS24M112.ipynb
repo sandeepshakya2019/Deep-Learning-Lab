{
  "cells": [
    {
      "cell_type": "markdown",
      "id": "fabulous-teaching",
      "metadata": {
        "papermill": {
          "duration": 0.01475,
          "end_time": "2021-05-23T07:30:44.776026",
          "exception": false,
          "start_time": "2021-05-23T07:30:44.761276",
          "status": "completed"
        },
        "tags": [],
        "id": "fabulous-teaching"
      },
      "source": [
        "# Lab 7_3 RNN, GRU, LSTM tutorials - Kaggle"
      ]
    },
    {
      "cell_type": "code",
      "execution_count": null,
      "id": "functional-width",
      "metadata": {
        "_cell_guid": "b1076dfc-b9ad-4769-8c92-a6c4dae69d19",
        "_uuid": "8f2839f25d086af736a60e9eeb907d3b93b6e0e5",
        "execution": {
          "iopub.execute_input": "2021-05-23T07:30:44.834791Z",
          "iopub.status.busy": "2021-05-23T07:30:44.833332Z",
          "iopub.status.idle": "2021-05-23T07:30:46.125537Z",
          "shell.execute_reply": "2021-05-23T07:30:46.124933Z",
          "shell.execute_reply.started": "2021-05-20T09:14:28.34792Z"
        },
        "papermill": {
          "duration": 1.309384,
          "end_time": "2021-05-23T07:30:46.125682",
          "exception": false,
          "start_time": "2021-05-23T07:30:44.816298",
          "status": "completed"
        },
        "tags": [],
        "id": "functional-width"
      },
      "outputs": [],
      "source": [
        "# import libraries\n",
        "import torch\n",
        "import torchvision.datasets as datasets\n",
        "import torchvision.transforms as transforms\n",
        "import torch.nn as nn\n",
        "import torch.optim as optim\n",
        "import torch.nn.functional as F\n",
        "from torch.utils.data import DataLoader\n",
        "from torch.utils.data import Dataset"
      ]
    },
    {
      "cell_type": "code",
      "execution_count": null,
      "id": "driving-spank",
      "metadata": {
        "execution": {
          "iopub.execute_input": "2021-05-23T07:30:46.184458Z",
          "iopub.status.busy": "2021-05-23T07:30:46.183731Z",
          "iopub.status.idle": "2021-05-23T07:30:46.186428Z",
          "shell.execute_reply": "2021-05-23T07:30:46.186044Z",
          "shell.execute_reply.started": "2021-05-20T09:14:29.985026Z"
        },
        "papermill": {
          "duration": 0.019792,
          "end_time": "2021-05-23T07:30:46.186530",
          "exception": false,
          "start_time": "2021-05-23T07:30:46.166738",
          "status": "completed"
        },
        "tags": [],
        "id": "driving-spank"
      },
      "outputs": [],
      "source": [
        "# defining hyperparameters\n",
        "\n",
        "input_size=28\n",
        "sequence_length =28\n",
        "num_layers=2\n",
        "hidden_size=256\n",
        "\n",
        "learning_rate = 0.001\n",
        "num_epochs = 5\n",
        "\n",
        "num_classes =10\n",
        "batch_size = 64"
      ]
    },
    {
      "cell_type": "code",
      "execution_count": null,
      "id": "falling-sauce",
      "metadata": {
        "execution": {
          "iopub.execute_input": "2021-05-23T07:30:46.246355Z",
          "iopub.status.busy": "2021-05-23T07:30:46.245710Z",
          "iopub.status.idle": "2021-05-23T07:30:46.248003Z",
          "shell.execute_reply": "2021-05-23T07:30:46.248387Z",
          "shell.execute_reply.started": "2021-05-20T09:14:29.995774Z"
        },
        "papermill": {
          "duration": 0.021916,
          "end_time": "2021-05-23T07:30:46.248506",
          "exception": false,
          "start_time": "2021-05-23T07:30:46.226590",
          "status": "completed"
        },
        "tags": [],
        "id": "falling-sauce"
      },
      "outputs": [],
      "source": [
        "class SimpleRNN(nn.Module):\n",
        "    def __init__(self, input_size=input_size, num_layers=num_layers, hidden_size=hidden_size, sequence_length=sequence_length, num_classes=num_classes):\n",
        "        super(SimpleRNN, self).__init__()\n",
        "        self.num_layers = num_layers\n",
        "        self.hidden_size= hidden_size\n",
        "        self.rnn = nn.RNN(input_size, hidden_size, num_layers, batch_first=True)\n",
        "        self.fc1 = nn.Linear(hidden_size * sequence_length, num_classes)\n",
        "\n",
        "    def forward(self, x):\n",
        "        h0 = torch.zeros(self.num_layers, x.size(0), self.hidden_size).to(device)\n",
        "        out, _ = self.rnn(x, h0)\n",
        "        out = out.reshape(out.shape[0], -1)\n",
        "        out = self.fc1(out)\n",
        "        return out\n",
        "\n",
        "class SimpleGRU(nn.Module):\n",
        "    def __init__(self, input_size=input_size, hidden_size=hidden_size, num_layers=num_layers, num_classes=num_classes, sequence_length=sequence_length):\n",
        "        super(SimpleGRU, self).__init__()\n",
        "        self.hidden_size  = hidden_size\n",
        "        self.num_layers = num_layers\n",
        "        self.gru = nn.GRU(input_size, hidden_size, num_layers, batch_first=True)\n",
        "        self.fc1 = nn.Linear(hidden_size * sequence_length, num_classes)\n",
        "\n",
        "    def forward(self, x):\n",
        "        h0 = torch.zeros(self.num_layers, x.size(0), self.hidden_size).to(device)\n",
        "        out,_ = self.gru(x, h0)\n",
        "        out = out.reshape(out.shape[0], -1)\n",
        "        out = self.fc1(out)\n",
        "        return out\n",
        "\n",
        "class SimpleLSTM(nn.Module):\n",
        "    def __init__(self, input_size=input_size, hidden_size=hidden_size, num_layers=num_layers, sequence_length=sequence_length, num_classes=num_classes):\n",
        "        super(SimpleLSTM, self).__init__()\n",
        "        self.hidden_size = hidden_size\n",
        "        self.num_layers = num_layers\n",
        "        self.lstm = nn.LSTM(input_size, hidden_size, num_layers, batch_first=True)\n",
        "        self.fc1 = nn.Linear(hidden_size * sequence_length, num_classes)\n",
        "\n",
        "    def forward(self, x):\n",
        "        h0 = torch.zeros(self.num_layers, x.size(0), self.hidden_size).to(device=device)\n",
        "        c0 = torch.zeros(self.num_layers, x.size(0), self.hidden_size).to(device=device)\n",
        "        out, _ = self.lstm(x,(h0, c0))\n",
        "        out = out.reshape(out.size(0), -1)\n",
        "        out = self.fc1(out)\n",
        "        return out"
      ]
    },
    {
      "cell_type": "code",
      "execution_count": null,
      "id": "convenient-child",
      "metadata": {
        "execution": {
          "iopub.execute_input": "2021-05-23T07:30:46.460960Z",
          "iopub.status.busy": "2021-05-23T07:30:46.460374Z",
          "iopub.status.idle": "2021-05-23T07:30:46.463634Z",
          "shell.execute_reply": "2021-05-23T07:30:46.462919Z",
          "shell.execute_reply.started": "2021-05-20T09:45:53.255074Z"
        },
        "papermill": {
          "duration": 0.076458,
          "end_time": "2021-05-23T07:30:46.463750",
          "exception": false,
          "start_time": "2021-05-23T07:30:46.387292",
          "status": "completed"
        },
        "tags": [],
        "id": "convenient-child"
      },
      "outputs": [],
      "source": [
        "device = torch.device('cuda' if torch.cuda.is_available() else 'cpu')\n",
        "models = [SimpleRNN().to(device=device), SimpleGRU().to(device=device), SimpleLSTM().to(device=device)]"
      ]
    },
    {
      "cell_type": "code",
      "source": [
        "!pip install -q kaggle\n",
        "# redirect: https://www.kaggle.com/code/fanbyprinciple/learning-pytorch-3-coding-an-rnn-gru-lstm\n",
        "# dataset link: https://www.kaggle.com/datasets/oddrationale/mnist-in-csv/data\n",
        "!kaggle datasets download -d oddrationale/mnist-in-csv -p /content/mnist_data\n",
        "!unzip /content/mnist_data/mnist-in-csv.zip -d /content/mnist_data"
      ],
      "metadata": {
        "colab": {
          "base_uri": "https://localhost:8080/"
        },
        "id": "eWcttMygXiLZ",
        "outputId": "e9ddc902-ca28-4afe-9ad2-f6436949ac08"
      },
      "id": "eWcttMygXiLZ",
      "execution_count": null,
      "outputs": [
        {
          "output_type": "stream",
          "name": "stdout",
          "text": [
            "Dataset URL: https://www.kaggle.com/datasets/oddrationale/mnist-in-csv\n",
            "License(s): CC0-1.0\n",
            "mnist-in-csv.zip: Skipping, found more recently modified local copy (use --force to force download)\n",
            "Archive:  /content/mnist_data/mnist-in-csv.zip\n",
            "replace /content/mnist_data/mnist_test.csv? [y]es, [n]o, [A]ll, [N]one, [r]ename: n\n",
            "replace /content/mnist_data/mnist_train.csv? [y]es, [n]o, [A]ll, [N]one, [r]ename: n\n"
          ]
        }
      ]
    },
    {
      "cell_type": "code",
      "execution_count": null,
      "id": "floating-carpet",
      "metadata": {
        "execution": {
          "iopub.execute_input": "2021-05-23T07:30:51.552606Z",
          "iopub.status.busy": "2021-05-23T07:30:51.551912Z",
          "iopub.status.idle": "2021-05-23T07:30:51.554612Z",
          "shell.execute_reply": "2021-05-23T07:30:51.554192Z",
          "shell.execute_reply.started": "2021-05-20T09:45:59.986325Z"
        },
        "papermill": {
          "duration": 0.023461,
          "end_time": "2021-05-23T07:30:51.554711",
          "exception": false,
          "start_time": "2021-05-23T07:30:51.531250",
          "status": "completed"
        },
        "tags": [],
        "id": "floating-carpet"
      },
      "outputs": [],
      "source": [
        "import pandas as pd\n",
        "import numpy as np\n",
        "\n",
        "class MnistDataset(Dataset):\n",
        "    def __init__(self, datapath):\n",
        "        super(MnistDataset).__init__()\n",
        "        df = pd.read_csv(datapath, dtype=np.float32)\n",
        "\n",
        "        self.x = torch.from_numpy(df.iloc[:, 1:].values)\n",
        "        self.x = self.x.reshape(self.x.size(0), 1, 28, 28).squeeze(1) # GRU and RNN expect N * 28 * 28\n",
        "        self.x = self.x.float()\n",
        "\n",
        "        self.y = torch.from_numpy(df.iloc[:, 0].values)\n",
        "        self.y = self.y.long()\n",
        "\n",
        "        self.n_samples = df.shape[0]\n",
        "\n",
        "    def __getitem__(self, index):\n",
        "        return self.x[index], self.y[index]\n",
        "\n",
        "    def __len__(self):\n",
        "        return self.n_samples"
      ]
    },
    {
      "cell_type": "code",
      "execution_count": null,
      "id": "square-criterion",
      "metadata": {
        "execution": {
          "iopub.execute_input": "2021-05-23T07:30:51.591500Z",
          "iopub.status.busy": "2021-05-23T07:30:51.590985Z",
          "iopub.status.idle": "2021-05-23T07:30:57.828542Z",
          "shell.execute_reply": "2021-05-23T07:30:57.828994Z",
          "shell.execute_reply.started": "2021-05-20T09:29:30.754269Z"
        },
        "papermill": {
          "duration": 6.260481,
          "end_time": "2021-05-23T07:30:57.829181",
          "exception": false,
          "start_time": "2021-05-23T07:30:51.568700",
          "status": "completed"
        },
        "tags": [],
        "colab": {
          "base_uri": "https://localhost:8080/"
        },
        "id": "square-criterion",
        "outputId": "ae0fd022-f4e1-44ee-ad3e-598ac2678f2c"
      },
      "outputs": [
        {
          "output_type": "execute_result",
          "data": {
            "text/plain": [
              "(torch.Size([28, 28]), torch.Size([]))"
            ]
          },
          "metadata": {},
          "execution_count": 7
        }
      ],
      "source": [
        "train_dataset = MnistDataset(\"./mnist_data/mnist_train.csv\")\n",
        "test_dataset = MnistDataset(\"./mnist_data/mnist_test.csv\")\n",
        "x, y = train_dataset[0]\n",
        "x.shape, y.shape"
      ]
    },
    {
      "cell_type": "code",
      "execution_count": null,
      "id": "aging-majority",
      "metadata": {
        "execution": {
          "iopub.execute_input": "2021-05-23T07:30:57.901480Z",
          "iopub.status.busy": "2021-05-23T07:30:57.900940Z",
          "iopub.status.idle": "2021-05-23T07:30:57.904385Z",
          "shell.execute_reply": "2021-05-23T07:30:57.904744Z",
          "shell.execute_reply.started": "2021-05-20T09:46:26.182212Z"
        },
        "papermill": {
          "duration": 0.021763,
          "end_time": "2021-05-23T07:30:57.904865",
          "exception": false,
          "start_time": "2021-05-23T07:30:57.883102",
          "status": "completed"
        },
        "tags": [],
        "id": "aging-majority"
      },
      "outputs": [],
      "source": [
        "train_dataloader = DataLoader(dataset=train_dataset, batch_size=batch_size, shuffle=True)\n",
        "test_dataloader = DataLoader(dataset=test_dataset, batch_size=batch_size, shuffle=True)\n",
        "loss_criterion  = nn.CrossEntropyLoss()"
      ]
    },
    {
      "cell_type": "code",
      "execution_count": null,
      "id": "progressive-answer",
      "metadata": {
        "execution": {
          "iopub.execute_input": "2021-05-23T07:31:26.456882Z",
          "iopub.status.busy": "2021-05-23T07:31:26.455662Z",
          "iopub.status.idle": "2021-05-23T07:31:26.458335Z",
          "shell.execute_reply": "2021-05-23T07:31:26.457931Z",
          "shell.execute_reply.started": "2021-05-20T09:47:10.860272Z"
        },
        "papermill": {
          "duration": 0.028434,
          "end_time": "2021-05-23T07:31:26.458441",
          "exception": false,
          "start_time": "2021-05-23T07:31:26.430007",
          "status": "completed"
        },
        "tags": [],
        "id": "progressive-answer"
      },
      "outputs": [],
      "source": [
        "def check_accuracy(dlr,model):\n",
        "    total_correct = 0\n",
        "    total_samples = 0\n",
        "    model.eval()\n",
        "\n",
        "    with torch.no_grad():\n",
        "        for x, y in dlr:\n",
        "            x = x.to(device=device)\n",
        "            y = y.to(device=device)\n",
        "\n",
        "            score = model(x)\n",
        "            _,predictions = score.max(1)\n",
        "\n",
        "            total_correct += (y==predictions).sum()\n",
        "            total_samples += predictions.size(0)\n",
        "\n",
        "    model.train()\n",
        "    print(f\"total_correct(True_Positives): {total_correct} out of total_samples(N): {total_samples} =>  ACCURACY : {float(total_correct/total_samples)* 100}\")"
      ]
    },
    {
      "cell_type": "code",
      "execution_count": null,
      "id": "unlimited-estonia",
      "metadata": {
        "execution": {
          "iopub.execute_input": "2021-05-23T07:30:57.973500Z",
          "iopub.status.busy": "2021-05-23T07:30:57.972795Z",
          "iopub.status.idle": "2021-05-23T07:31:26.409373Z",
          "shell.execute_reply": "2021-05-23T07:31:26.409919Z",
          "shell.execute_reply.started": "2021-05-20T09:46:32.399122Z"
        },
        "papermill": {
          "duration": 28.456989,
          "end_time": "2021-05-23T07:31:26.410091",
          "exception": false,
          "start_time": "2021-05-23T07:30:57.953102",
          "status": "completed"
        },
        "tags": [],
        "colab": {
          "base_uri": "https://localhost:8080/"
        },
        "id": "unlimited-estonia",
        "outputId": "0330589c-b84c-4374-9591-409f8660b07d"
      },
      "outputs": [
        {
          "output_type": "stream",
          "name": "stdout",
          "text": [
            "SimpleRNN(\n",
            "  (rnn): RNN(28, 256, num_layers=2, batch_first=True)\n",
            "  (fc1): Linear(in_features=7168, out_features=10, bias=True)\n",
            ") Output shape: torch.Size([64, 10])\n",
            "epoch:1, loss: 0.12200575321912766\n",
            "epoch:2, loss: 0.7134461402893066\n",
            "epoch:3, loss: 0.001105261966586113\n",
            "epoch:4, loss: 0.0045845480635762215\n",
            "epoch:5, loss: 1.0893514156341553\n",
            "Train_Data: total_correct(True_Positives): 57811 out of total_samples(N): 60000 =>  ACCURACY : 96.35166525840759\n",
            "Test_Data: total_correct(True_Positives): 9568 out of total_samples(N): 10000 =>  ACCURACY : 95.67999839782715\n",
            "---------------------------------------------------------------------------\n",
            "\n",
            "SimpleGRU(\n",
            "  (gru): GRU(28, 256, num_layers=2, batch_first=True)\n",
            "  (fc1): Linear(in_features=7168, out_features=10, bias=True)\n",
            ") Output shape: torch.Size([64, 10])\n",
            "epoch:1, loss: 0.028496546670794487\n",
            "epoch:2, loss: 0.00020632590167224407\n",
            "epoch:3, loss: 0.0005049546016380191\n",
            "epoch:4, loss: 0.018827950581908226\n",
            "epoch:5, loss: 0.010415656492114067\n",
            "Train_Data: total_correct(True_Positives): 59073 out of total_samples(N): 60000 =>  ACCURACY : 98.45499992370605\n",
            "Test_Data: total_correct(True_Positives): 9779 out of total_samples(N): 10000 =>  ACCURACY : 97.7899968624115\n",
            "---------------------------------------------------------------------------\n",
            "\n",
            "SimpleLSTM(\n",
            "  (lstm): LSTM(28, 256, num_layers=2, batch_first=True)\n",
            "  (fc1): Linear(in_features=7168, out_features=10, bias=True)\n",
            ") Output shape: torch.Size([64, 10])\n",
            "epoch:1, loss: 0.1084822490811348\n",
            "epoch:2, loss: 0.0042587812058627605\n",
            "epoch:3, loss: 0.05205797031521797\n",
            "epoch:4, loss: 0.0002811894519254565\n",
            "epoch:5, loss: 0.06419207900762558\n",
            "Train_Data: total_correct(True_Positives): 59529 out of total_samples(N): 60000 =>  ACCURACY : 99.21500086784363\n",
            "Test_Data: total_correct(True_Positives): 9839 out of total_samples(N): 10000 =>  ACCURACY : 98.38999509811401\n",
            "---------------------------------------------------------------------------\n",
            "\n"
          ]
        }
      ],
      "source": [
        "rand_inp = torch.randn(64,28,28).to(device=device)\n",
        "for model in models:\n",
        "    with torch.no_grad():\n",
        "        y = model(rand_inp)\n",
        "        print(model, \"Output shape:\",y.shape)\n",
        "\n",
        "    optimizer = optim.Adam(model.parameters(), lr = learning_rate)\n",
        "    current_loss = 0\n",
        "\n",
        "    for epoch in range(num_epochs):\n",
        "        for data, target in train_dataloader:\n",
        "            data = data.to(device=device)\n",
        "            target = target.to(device=device)\n",
        "\n",
        "            score = model(data)\n",
        "            loss = loss_criterion(score, target)\n",
        "            current_loss = loss\n",
        "\n",
        "            optimizer.zero_grad()\n",
        "            loss.backward()\n",
        "            optimizer.step()\n",
        "\n",
        "        print(f\"epoch:{epoch+1}, loss: {current_loss}\")\n",
        "    print(\"Train_Data:\", end=' '); check_accuracy(train_dataloader, model)\n",
        "    print(\"Test_Data:\", end=' '); check_accuracy(test_dataloader, model)\n",
        "    print(\"---------------------------------------------------------------------------\\n\")"
      ]
    },
    {
      "cell_type": "markdown",
      "source": [
        "---"
      ],
      "metadata": {
        "id": "S5Gq1BQoazpX"
      },
      "id": "S5Gq1BQoazpX"
    }
  ],
  "metadata": {
    "kernelspec": {
      "display_name": "Python 3",
      "name": "python3"
    },
    "language_info": {
      "codemirror_mode": {
        "name": "ipython",
        "version": 3
      },
      "file_extension": ".py",
      "mimetype": "text/x-python",
      "name": "python",
      "nbconvert_exporter": "python",
      "pygments_lexer": "ipython3",
      "version": "3.7.10"
    },
    "papermill": {
      "default_parameters": {},
      "duration": 52.659941,
      "end_time": "2021-05-23T07:31:30.902349",
      "environment_variables": {},
      "exception": null,
      "input_path": "__notebook__.ipynb",
      "output_path": "__notebook__.ipynb",
      "parameters": {},
      "start_time": "2021-05-23T07:30:38.242408",
      "version": "2.3.3"
    },
    "colab": {
      "provenance": [],
      "gpuType": "T4"
    },
    "accelerator": "GPU"
  },
  "nbformat": 4,
  "nbformat_minor": 5
}