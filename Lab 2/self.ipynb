{
 "cells": [
  {
   "cell_type": "code",
   "execution_count": 337,
   "id": "606a4857",
   "metadata": {},
   "outputs": [
    {
     "name": "stdout",
     "output_type": "stream",
     "text": [
      "[+] Training Start\n",
      "1/10 Train Loss: 2.3028 Train Acc: 9.57%\n",
      "1/10 Test Loss: 2.3027 Test Acc: 9.10%\n",
      "2/10 Train Loss: 2.3028 Train Acc: 9.57%\n",
      "2/10 Test Loss: 2.3027 Test Acc: 9.10%\n",
      "3/10 Train Loss: 2.3028 Train Acc: 9.57%\n",
      "3/10 Test Loss: 2.3027 Test Acc: 9.10%\n",
      "4/10 Train Loss: 2.3028 Train Acc: 9.57%\n",
      "4/10 Test Loss: 2.3027 Test Acc: 9.10%\n",
      "5/10 Train Loss: 2.3028 Train Acc: 9.57%\n",
      "5/10 Test Loss: 2.3027 Test Acc: 9.10%\n",
      "6/10 Train Loss: 2.3028 Train Acc: 9.57%\n",
      "6/10 Test Loss: 2.3027 Test Acc: 9.10%\n",
      "7/10 Train Loss: 2.3028 Train Acc: 9.57%\n",
      "7/10 Test Loss: 2.3027 Test Acc: 9.10%\n",
      "8/10 Train Loss: 2.3028 Train Acc: 9.57%\n",
      "8/10 Test Loss: 2.3027 Test Acc: 9.10%\n",
      "9/10 Train Loss: 2.3028 Train Acc: 9.57%\n",
      "9/10 Test Loss: 2.3027 Test Acc: 9.10%\n",
      "10/10 Train Loss: 2.3028 Train Acc: 9.57%\n",
      "10/10 Test Loss: 2.3027 Test Acc: 9.10%\n"
     ]
    }
   ],
   "source": [
    "import torch\n",
    "import torch.nn as nn\n",
    "import torch.optim as optim\n",
    "from torch.utils.data import DataLoader\n",
    "from torchvision import datasets, transforms\n",
    "from sklearn.metrics import accuracy_score\n",
    "\n",
    "# Model Definition with softmax in the output layer\n",
    "class SimpleNN(nn.Module):\n",
    "    def __init__(self, input_dim, hidden_unit, output_dim):\n",
    "        super().__init__()\n",
    "        self.layer = nn.Sequential(\n",
    "            nn.Flatten(),\n",
    "            nn.Linear(input_dim, hidden_unit),\n",
    "            nn.ReLU(),\n",
    "            nn.Linear(hidden_unit, hidden_unit),\n",
    "            nn.ReLU(),\n",
    "            nn.Linear(hidden_unit, output_dim),\n",
    "            nn.Softmax(dim=1)  # Softmax for multi-class classification\n",
    "        )\n",
    "\n",
    "    def forward(self, input_img_tensor):\n",
    "        return self.layer(input_img_tensor)\n",
    "\n",
    "# Load MNIST Dataset\n",
    "transform = transforms.Compose([\n",
    "    transforms.ToTensor(),\n",
    "    transforms.Normalize((0.5,), (0.5,))\n",
    "])\n",
    "\n",
    "train_dataset = datasets.MNIST(root='./data', train=True, download=True, transform=transform)\n",
    "test_dataset = datasets.MNIST(root='./data', train=False, download=True, transform=transform)\n",
    "\n",
    "train_loader = DataLoader(train_dataset, batch_size=32, shuffle=True)\n",
    "test_loader = DataLoader(test_dataset, batch_size=32, shuffle=False)\n",
    "\n",
    "# Initialize Model, Loss Function, and Optimizer\n",
    "model = SimpleNN(input_dim=28*28, hidden_unit=128, output_dim=10)  # 28x28 for MNIST, 10 classes\n",
    "loss_fn = nn.CrossEntropyLoss()\n",
    "optimizer = optim.Adam(model.parameters(), lr=0.001)\n",
    "\n",
    "epochs = 10\n",
    "print(\"[+] Training Start\")\n",
    "\n",
    "for i in range(epochs):\n",
    "    train_loss = 0\n",
    "    test_loss = 0\n",
    "    train_accuracy = 0\n",
    "    test_accuracy = 0\n",
    "    total_train_samples = 0\n",
    "    total_correct_train = 0\n",
    "\n",
    "    # Training Phase\n",
    "    model.train()\n",
    "    for data, target in train_loader:\n",
    "        y_pred = model(data)\n",
    "        loss = loss_fn(y_pred, target)\n",
    "        train_loss += loss.item()\n",
    "\n",
    "        # Calculate accuracy\n",
    "        _, predicted = torch.max(y_pred, 1)\n",
    "        total_train_samples += target.size(0)\n",
    "        total_correct_train += (predicted == target).sum().item()\n",
    "\n",
    "        loss.backward()\n",
    "        optimizer.zero_grad()\n",
    "        optimizer.step()\n",
    "\n",
    "    # Calculate training accuracy\n",
    "    train_accuracy = total_correct_train / total_train_samples * 100\n",
    "\n",
    "    # Testing Phase\n",
    "    model.eval()\n",
    "    with torch.inference_mode():\n",
    "        for data, target in test_loader:\n",
    "            y_pred = model(data)\n",
    "            loss = loss_fn(y_pred, target)\n",
    "            test_loss += loss.item()\n",
    "\n",
    "            # Calculate test accuracy\n",
    "            _, predicted = torch.max(y_pred, 1)\n",
    "            test_accuracy += (predicted == target).sum().item()\n",
    "\n",
    "    # Calculate test accuracy\n",
    "    total_test_samples = len(test_loader.dataset)\n",
    "    test_accuracy = test_accuracy / total_test_samples * 100\n",
    "\n",
    "    # Print the results for this epoch\n",
    "    avg_train_loss = train_loss / len(train_loader)\n",
    "    avg_test_loss = test_loss / len(test_loader)\n",
    "\n",
    "    print(f\"{i+1}/{epochs} Train Loss: {avg_train_loss:.4f} Train Acc: {train_accuracy:.2f}%\")\n",
    "    print(f\"{i+1}/{epochs} Test Loss: {avg_test_loss:.4f} Test Acc: {test_accuracy:.2f}%\")\n"
   ]
  },
  {
   "cell_type": "code",
   "execution_count": 338,
   "id": "5fcde724",
   "metadata": {},
   "outputs": [
    {
     "name": "stdout",
     "output_type": "stream",
     "text": [
      "Test Accuracy: 9.10%\n"
     ]
    }
   ],
   "source": [
    "model.eval()\n",
    "correct = 0\n",
    "total = 0\n",
    "\n",
    "with torch.no_grad():\n",
    "    for data, target in test_loader:\n",
    "        output = model(data)\n",
    "\n",
    "        # Get the predicted labels\n",
    "        _, predicted = torch.max(output, 1)\n",
    "\n",
    "        total += target.size(0)\n",
    "        correct += (predicted == target).sum().item()\n",
    "\n",
    "accuracy = correct / total * 100\n",
    "print(f'Test Accuracy: {accuracy:.2f}%')"
   ]
  },
  {
   "cell_type": "code",
   "execution_count": 339,
   "id": "45ce8038",
   "metadata": {},
   "outputs": [
    {
     "name": "stdout",
     "output_type": "stream",
     "text": [
      "torch.Size([1, 28, 28])\n",
      "tensor(7)\n"
     ]
    },
    {
     "data": {
      "image/png": "[encoded data removed]",
      "text/plain": [
       "<Figure size 100x100 with 1 Axes>"
      ]
     },
     "metadata": {},
     "output_type": "display_data"
    }
   ],
   "source": [
    "import matplotlib.pyplot as plt\n",
    "for batch_img, batch_label in train_loader:\n",
    "    img = batch_img[0]\n",
    "    label = batch_label[0]\n",
    "    print(img.shape)\n",
    "    print(label)\n",
    "    image = img.numpy().squeeze()  # Remove the channel dimension for grayscale image\n",
    "\n",
    "    # Plot the image\n",
    "    plt.figure(figsize=(1,1))\n",
    "    plt.imshow(image, cmap='gray')\n",
    "    plt.title(f\"Label: {label}\")\n",
    "    plt.axis('off')\n",
    "    plt.show()\n",
    "    break"
   ]
  }
 ],
 "metadata": {
  "kernelspec": {
   "display_name": "base",
   "language": "python",
   "name": "python3"
  },
  "language_info": {
   "codemirror_mode": {
    "name": "ipython",
    "version": 3
   },
   "file_extension": ".py",
   "mimetype": "text/x-python",
   "name": "python",
   "nbconvert_exporter": "python",
   "pygments_lexer": "ipython3",
   "version": "3.12.4"
  }
 },
 "nbformat": 4,
 "nbformat_minor": 5
}
